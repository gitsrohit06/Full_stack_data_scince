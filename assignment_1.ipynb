{
 "cells": [
  {
   "cell_type": "markdown",
   "id": "a6d53c60-06e5-4aa6-ad6d-2404d42b2038",
   "metadata": {},
   "source": [
    "# Basic variable based question"
   ]
  },
  {
   "cell_type": "markdown",
   "id": "79a0f4e7-e56c-4152-af23-e159a8d64524",
   "metadata": {},
   "source": [
    "ques-(1)"
   ]
  },
  {
   "cell_type": "code",
   "execution_count": 5,
   "id": "998cb9f4-6743-4655-b93a-9f7c94009bc6",
   "metadata": {},
   "outputs": [
    {
     "name": "stdout",
     "output_type": "stream",
     "text": [
      "20\n"
     ]
    }
   ],
   "source": [
    "x=10\n",
    "y=20\n",
    "x=x+y\n",
    "y=x-y\n",
    "x=x-y\n",
    "print(x)"
   ]
  },
  {
   "cell_type": "code",
   "execution_count": 6,
   "id": "993988e8-3c22-4034-8ed3-f6a0b800e6ba",
   "metadata": {},
   "outputs": [
    {
     "name": "stdout",
     "output_type": "stream",
     "text": [
      "10\n"
     ]
    }
   ],
   "source": [
    "print(y)"
   ]
  },
  {
   "cell_type": "code",
   "execution_count": null,
   "id": "212ec1e5-9732-4fea-a679-6bbd21faadd2",
   "metadata": {},
   "outputs": [],
   "source": [
    "#here x=20,y=10 so values are swapped"
   ]
  },
  {
   "cell_type": "markdown",
   "id": "1fbee286-93a4-4e0b-bb07-eeba32e419e8",
   "metadata": {},
   "source": [
    "ques-(2)"
   ]
  },
  {
   "cell_type": "code",
   "execution_count": 7,
   "id": "d09eb69e-a735-48c8-9768-3d2ef0ce62ae",
   "metadata": {},
   "outputs": [
    {
     "name": "stdout",
     "output_type": "stream",
     "text": [
      "input the length of rectangle 40\n",
      "input the width of rectangle 10\n"
     ]
    },
    {
     "name": "stdout",
     "output_type": "stream",
     "text": [
      "area of rectangle = 400.0\n"
     ]
    }
   ],
   "source": [
    "length=float(input(\"input the length of rectangle\"))\n",
    "width=float(input(\"input the width of rectangle\"))\n",
    "area=length*width\n",
    "print(\"area of rectangle =\",area)"
   ]
  },
  {
   "cell_type": "markdown",
   "id": "6dd3022e-3331-4530-b252-ee2a4a20f1f9",
   "metadata": {},
   "source": [
    "ques-(3)"
   ]
  },
  {
   "cell_type": "code",
   "execution_count": 8,
   "id": "87514550-903b-4d91-b20d-e77ceee9d4bf",
   "metadata": {},
   "outputs": [
    {
     "name": "stdout",
     "output_type": "stream",
     "text": [
      "input the temp in celsius 50\n"
     ]
    },
    {
     "name": "stdout",
     "output_type": "stream",
     "text": [
      "temp in fahrenheit = 122.0\n"
     ]
    }
   ],
   "source": [
    "cel=float(input(\"input the temp in celsius\"))\n",
    "far=9/5*cel + 32\n",
    "print(\"temp in fahrenheit =\",far)"
   ]
  },
  {
   "cell_type": "markdown",
   "id": "29d874f7-b5e7-4600-ac20-2e22d0bf02c0",
   "metadata": {},
   "source": [
    "# String based question"
   ]
  },
  {
   "cell_type": "markdown",
   "id": "9029fcad-5c2d-44e6-906b-376309da12a6",
   "metadata": {},
   "source": [
    "ques-(1)"
   ]
  },
  {
   "cell_type": "code",
   "execution_count": 2,
   "id": "1e3bea25-c35d-4d97-ad5e-c16aa80f9421",
   "metadata": {},
   "outputs": [
    {
     "name": "stdout",
     "output_type": "stream",
     "text": [
      "enter any string- pwskill\n"
     ]
    },
    {
     "name": "stdout",
     "output_type": "stream",
     "text": [
      "length of string = 7\n"
     ]
    }
   ],
   "source": [
    "str=input(\"enter any string-\")\n",
    "length=len(str)\n",
    "print(\"length of string =\",length)"
   ]
  },
  {
   "cell_type": "markdown",
   "id": "cd3891bb-7298-4fdd-abab-2d960f2bac11",
   "metadata": {},
   "source": [
    "ques-(2)"
   ]
  },
  {
   "cell_type": "code",
   "execution_count": 6,
   "id": "82469bb6-235f-48ea-a748-1409f2be6efd",
   "metadata": {},
   "outputs": [
    {
     "name": "stdout",
     "output_type": "stream",
     "text": [
      "enter any sentence- thIs is good\n"
     ]
    },
    {
     "name": "stdout",
     "output_type": "stream",
     "text": [
      "there are  4  vowel\n"
     ]
    }
   ],
   "source": [
    "sen=input(\"enter any sentence-\")\n",
    "count=0\n",
    "for s in sen:\n",
    "        if (s=='a' or s=='i' or s=='e' or s=='o' or s=='u'or s=='A' or s=='E' or s=='I' or s=='O'or s=='U'):\n",
    "            count=count+1\n",
    "print(\"there are \",count,\" vowel\")    "
   ]
  },
  {
   "cell_type": "markdown",
   "id": "db2e0d3d-5a3a-4675-994d-9ecfbfd64850",
   "metadata": {},
   "source": [
    "ques-(3)"
   ]
  },
  {
   "cell_type": "code",
   "execution_count": 3,
   "id": "cd2ea4e1-ab57-47d1-b909-63711944bded",
   "metadata": {},
   "outputs": [
    {
     "name": "stdout",
     "output_type": "stream",
     "text": [
      "reversed string = llikswp\n"
     ]
    }
   ],
   "source": [
    "str='pwskill'\n",
    "rev=str[-1:-8:-1]\n",
    "print(\"reversed string =\",rev)"
   ]
  },
  {
   "cell_type": "code",
   "execution_count": null,
   "id": "8f77843b-bc5e-46b5-94c2-bd7303794a79",
   "metadata": {},
   "outputs": [],
   "source": [
    "ques-(4)"
   ]
  },
  {
   "cell_type": "code",
   "execution_count": 12,
   "id": "517868ee-21a0-4abd-a4d4-89429bb82998",
   "metadata": {},
   "outputs": [
    {
     "name": "stdout",
     "output_type": "stream",
     "text": [
      "enter any string-- madam\n"
     ]
    },
    {
     "name": "stdout",
     "output_type": "stream",
     "text": [
      "this is palindom\n"
     ]
    }
   ],
   "source": [
    "str=input(\"enter any string--\")\n",
    "l=len(str)-1\n",
    "i=0\n",
    "n=1\n",
    "while i<l:\n",
    "   if str[i]!=str[l]:\n",
    "     print('this is not palindrom')\n",
    "     n=0   \n",
    "     break\n",
    "   i=i+1     \n",
    "   l=l-1     \n",
    "if n==1:\n",
    "   print(\"this is palindom\")"
   ]
  },
  {
   "cell_type": "markdown",
   "id": "eced4929-693c-4faf-a6bb-ea3d7e03c235",
   "metadata": {},
   "source": [
    "ques-(5)"
   ]
  },
  {
   "cell_type": "code",
   "execution_count": 1,
   "id": "e31fce5b-9ac2-47ba-9f14-677193e2a4af",
   "metadata": {},
   "outputs": [
    {
     "name": "stdout",
     "output_type": "stream",
     "text": [
      "modified string = rohit\n"
     ]
    }
   ],
   "source": [
    "str=input(\"enter any string--\")\n",
    "n=str.replace(\" \",\"\")\n",
    "print(\"modified string =\",n)"
   ]
  },
  {
   "cell_type": "code",
   "execution_count": null,
   "id": "bc6c77b5",
   "metadata": {},
   "outputs": [],
   "source": []
  }
 ],
 "metadata": {
  "kernelspec": {
   "display_name": "Python 3",
   "language": "python",
   "name": "python3"
  },
  "language_info": {
   "codemirror_mode": {
    "name": "ipython",
    "version": 3
   },
   "file_extension": ".py",
   "mimetype": "text/x-python",
   "name": "python",
   "nbconvert_exporter": "python",
   "pygments_lexer": "ipython3",
   "version": "3.12.3"
  }
 },
 "nbformat": 4,
 "nbformat_minor": 5
}
